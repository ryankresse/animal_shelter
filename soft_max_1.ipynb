{
 "cells": [
  {
   "cell_type": "code",
   "execution_count": 1,
   "metadata": {
    "collapsed": true
   },
   "outputs": [],
   "source": [
    "%matplotlib inline\n",
    "import matplotlib.pyplot as plt\n",
    "import numpy as np\n",
    "import pandas as pd\n",
    "import seaborn as sns"
   ]
  },
  {
   "cell_type": "code",
   "execution_count": 2,
   "metadata": {
    "collapsed": false
   },
   "outputs": [],
   "source": [
    "train = pd.read_csv('input/train.csv', parse_dates=['DateTime'])\n",
    "test = pd.read_csv('input/test.csv',  parse_dates=['DateTime'])"
   ]
  },
  {
   "cell_type": "code",
   "execution_count": 3,
   "metadata": {
    "collapsed": false
   },
   "outputs": [
    {
     "data": {
      "text/plain": [
       "(26729, 10)"
      ]
     },
     "execution_count": 3,
     "metadata": {},
     "output_type": "execute_result"
    }
   ],
   "source": [
    "train.shape"
   ]
  },
  {
   "cell_type": "code",
   "execution_count": 4,
   "metadata": {
    "collapsed": false
   },
   "outputs": [
    {
     "data": {
      "text/plain": [
       "Index(['AnimalID', 'Name', 'DateTime', 'OutcomeType', 'OutcomeSubtype',\n",
       "       'AnimalType', 'SexuponOutcome', 'AgeuponOutcome', 'Breed', 'Color'],\n",
       "      dtype='object')"
      ]
     },
     "execution_count": 4,
     "metadata": {},
     "output_type": "execute_result"
    }
   ],
   "source": [
    "train.columns"
   ]
  },
  {
   "cell_type": "code",
   "execution_count": 5,
   "metadata": {
    "collapsed": false
   },
   "outputs": [],
   "source": [
    "import re\n",
    "from sklearn import preprocessing\n",
    "le = preprocessing.LabelEncoder()\n",
    "sc = preprocessing.StandardScaler()\n",
    "def convertToYears(age):\n",
    "    if age == 999.0:\n",
    "        return age\n",
    "    num = int(re.search('\\d+', age).group())\n",
    "    unit = re.search('[A-Za-z]+', age).group()\n",
    "    \n",
    "    if 'year' in unit:\n",
    "        return num\n",
    "    if 'week' in unit:\n",
    "        return num/52\n",
    "    if 'month' in unit:\n",
    "        return num/12\n",
    "    if 'day' in unit:\n",
    "        return num/365\n",
    "    return num\n",
    "\n",
    "\n",
    "def prepData(train, test):\n",
    "    \n",
    "    #Encode OutcomeType\n",
    "    le.fit(train.OutcomeType.values)\n",
    "    train.OutcomeType = le.transform(train.OutcomeType.values)\n",
    "    \n",
    "    allData = pd.concat([train, test])\n",
    "    \n",
    "    #Drop some columns for simplicity\n",
    "    allData = allData.drop(['AnimalID', 'Name', 'DateTime', 'OutcomeSubtype'],axis=1)\n",
    "    \n",
    "    #Convert age to age in years\n",
    "    allData['AgeuponOutcome'] = allData.AgeuponOutcome.fillna(999.0)\n",
    "    allData['ageInYears'] = allData.AgeuponOutcome.apply(convertToYears)\n",
    "    ageMean = allData[allData.ageInYears < 999.0].ageInYears.mean()\n",
    "    allData.loc[allData['ageInYears'] == 999.0, 'ageInYears'] = ageMean\n",
    "    allData['ageInYears'] = sc.fit_transform(allData.ageInYears.reshape(1,-1)).T\n",
    "    allData = allData.drop('AgeuponOutcome', axis=1)\n",
    "    \n",
    "    #Get dummies\n",
    "    dummies = pd.get_dummies(allData[['Breed', 'AnimalType', 'Color', 'SexuponOutcome']])\n",
    "    allData = pd.concat([allData, dummies], axis=1)\n",
    "    allData = allData.drop(['Breed', 'AnimalType', 'SexuponOutcome', 'Color'], axis=1)\n",
    "       \n",
    "    return (allData, le)"
   ]
  },
  {
   "cell_type": "code",
   "execution_count": 6,
   "metadata": {
    "collapsed": false
   },
   "outputs": [],
   "source": [
    "allData, le = prepData(train, test)"
   ]
  },
  {
   "cell_type": "code",
   "execution_count": 7,
   "metadata": {
    "collapsed": false
   },
   "outputs": [],
   "source": [
    "train = allData.iloc[:train.shape[0],:].drop('ID', axis=1)"
   ]
  },
  {
   "cell_type": "code",
   "execution_count": 8,
   "metadata": {
    "collapsed": true
   },
   "outputs": [],
   "source": [
    "test =  allData.iloc[train.shape[0]:,:].drop('OutcomeType', axis=1)"
   ]
  },
  {
   "cell_type": "code",
   "execution_count": 9,
   "metadata": {
    "collapsed": false
   },
   "outputs": [
    {
     "data": {
      "text/plain": [
       "GridSearchCV(cv=None, error_score='raise',\n",
       "       estimator=LogisticRegression(C=1.0, class_weight=None, dual=False, fit_intercept=True,\n",
       "          intercept_scaling=1, max_iter=100, multi_class='multinomial',\n",
       "          n_jobs=1, penalty='l2', random_state=None, solver='newton-cg',\n",
       "          tol=0.0001, verbose=0, warm_start=False),\n",
       "       fit_params={}, iid=True, n_jobs=1, param_grid={'C': [1]},\n",
       "       pre_dispatch='2*n_jobs', refit=True, scoring='log_loss', verbose=0)"
      ]
     },
     "execution_count": 9,
     "metadata": {},
     "output_type": "execute_result"
    }
   ],
   "source": [
    "from sklearn.linear_model import LogisticRegression\n",
    "from sklearn.grid_search import GridSearchCV\n",
    "\n",
    "params = {\n",
    "    'C':[1]\n",
    "}\n",
    "lr = LogisticRegression(multi_class='multinomial', solver='newton-cg')\n",
    "gs = GridSearchCV(lr, params, scoring='log_loss')\n",
    "\n",
    "gs.fit(train.drop('OutcomeType', axis=1).values, train['OutcomeType'].values)"
   ]
  },
  {
   "cell_type": "code",
   "execution_count": 10,
   "metadata": {
    "collapsed": false
   },
   "outputs": [
    {
     "data": {
      "text/plain": [
       "-0.98893376007745615"
      ]
     },
     "execution_count": 10,
     "metadata": {},
     "output_type": "execute_result"
    }
   ],
   "source": [
    "gs.best_score_ "
   ]
  },
  {
   "cell_type": "code",
   "execution_count": 26,
   "metadata": {
    "collapsed": false
   },
   "outputs": [
    {
     "data": {
      "text/plain": [
       "{'C': 1}"
      ]
     },
     "execution_count": 26,
     "metadata": {},
     "output_type": "execute_result"
    }
   ],
   "source": [
    "gs.best_params_"
   ]
  },
  {
   "cell_type": "code",
   "execution_count": 27,
   "metadata": {
    "collapsed": false
   },
   "outputs": [
    {
     "data": {
      "text/plain": [
       "LogisticRegression(C=1, class_weight=None, dual=False, fit_intercept=True,\n",
       "          intercept_scaling=1, max_iter=100, multi_class='multinomial',\n",
       "          n_jobs=1, penalty='l2', random_state=None, solver='newton-cg',\n",
       "          tol=0.0001, verbose=0, warm_start=False)"
      ]
     },
     "execution_count": 27,
     "metadata": {},
     "output_type": "execute_result"
    }
   ],
   "source": [
    "bestLr = gs.best_estimator_\n",
    "bestLr.fit(train.drop('OutcomeType', axis=1).values, train['OutcomeType'].values)"
   ]
  },
  {
   "cell_type": "code",
   "execution_count": 28,
   "metadata": {
    "collapsed": false
   },
   "outputs": [],
   "source": [
    "testIds = test.ID"
   ]
  },
  {
   "cell_type": "code",
   "execution_count": 29,
   "metadata": {
    "collapsed": true
   },
   "outputs": [],
   "source": [
    "probs = bestLr.predict_proba(test.drop('ID', axis=1))"
   ]
  },
  {
   "cell_type": "code",
   "execution_count": 36,
   "metadata": {
    "collapsed": false
   },
   "outputs": [],
   "source": [
    "probsDf = pd.DataFrame(data=probs, columns=le.inverse_transform([0,1,2,3,4]))"
   ]
  },
  {
   "cell_type": "code",
   "execution_count": 48,
   "metadata": {
    "collapsed": false
   },
   "outputs": [],
   "source": [
    "sol = pd.concat([testIds, probsDf], axis=1) "
   ]
  },
  {
   "cell_type": "code",
   "execution_count": 53,
   "metadata": {
    "collapsed": false
   },
   "outputs": [],
   "source": [
    "sol.ID = sol.ID.astype(int)"
   ]
  },
  {
   "cell_type": "code",
   "execution_count": 57,
   "metadata": {
    "collapsed": false
   },
   "outputs": [],
   "source": [
    "sol.to_csv('lr5.csv',index =False)"
   ]
  },
  {
   "cell_type": "markdown",
   "metadata": {},
   "source": [
    "0.98278\t"
   ]
  }
 ],
 "metadata": {
  "kernelspec": {
   "display_name": "Python 3",
   "language": "python",
   "name": "python3"
  },
  "language_info": {
   "codemirror_mode": {
    "name": "ipython",
    "version": 3
   },
   "file_extension": ".py",
   "mimetype": "text/x-python",
   "name": "python",
   "nbconvert_exporter": "python",
   "pygments_lexer": "ipython3",
   "version": "3.4.4"
  }
 },
 "nbformat": 4,
 "nbformat_minor": 0
}
